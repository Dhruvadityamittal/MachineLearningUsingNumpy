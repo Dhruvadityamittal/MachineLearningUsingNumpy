{
 "cells": [
  {
   "cell_type": "code",
   "execution_count": 27,
   "metadata": {},
   "outputs": [],
   "source": [
    "import numpy as np\n",
    "from sklearn import datasets\n",
    "from sklearn.model_selection import train_test_split\n",
    "import matplotlib.pylab as plt\n",
    "from matplotlib.colors import ListedColormap\n",
    "cmap= ListedColormap(['#FF0000','#00FF00','#0000FF'])\n",
    "from collections import Counter\n"
   ]
  },
  {
   "cell_type": "code",
   "execution_count": 33,
   "metadata": {},
   "outputs": [],
   "source": [
    "class linearRegression():\n",
    "    \n",
    "    def __init__(self,l=0.0001,n=10):\n",
    "        self.n=n\n",
    "        self.l=l\n",
    "        self.weight=None\n",
    "        self.bias=None\n",
    "    \n",
    "    def fit(self,X,y):\n",
    "        n_samples,n_features=X.shape\n",
    "        self.weight=np.zeros(n_features)\n",
    "        self.bias=0\n",
    "        cost=0\n",
    "        for _ in range(self.n):\n",
    "            y_hat= np.dot(X,self.weight)+self.bias\n",
    "            cost=(1/(2*self.n))*np.sum(np.square(y-y_hat))\n",
    "        \n",
    "            dw =1/(self.n) *(np.dot(X.T,y_hat-y))\n",
    "            db= 1/(self.n)* np.sum(y_hat-y)\n",
    "            \n",
    "            self.weight-=self.l*dw\n",
    "            self.bias-=self.l*db\n",
    "            \n",
    "        print(cost)\n",
    "            \n",
    "    def predict(self,X):\n",
    "        return np.dot(X,self.weight)+self.bias\n",
    "    \n",
    "    def predict_logisticRegression(self,X):\n",
    "        pred=np.dot(X,self.weight)+self.bias\n",
    "        pred_sig=1/1+np.exp(-(pred))\n",
    "        return [1 if value>0.5 else 0 for value in pred_sig]\n",
    "    \n",
    "    \n",
    "                \n",
    "    "
   ]
  },
  {
   "cell_type": "code",
   "execution_count": 34,
   "metadata": {},
   "outputs": [],
   "source": [
    "from sklearn import datasets\n",
    "X,y=datasets.make_regression(n_samples=100,n_features=1,noise=20, random_state=4)"
   ]
  },
  {
   "cell_type": "code",
   "execution_count": 35,
   "metadata": {},
   "outputs": [],
   "source": [
    "X_train,X_test,y_train,y_test=train_test_split(X,y,test_size=0.2,random_state=1234)\n",
    "\n"
   ]
  },
  {
   "cell_type": "code",
   "execution_count": 36,
   "metadata": {},
   "outputs": [],
   "source": [
    "lgr=linearRegression(0.1,20000)"
   ]
  },
  {
   "cell_type": "code",
   "execution_count": 37,
   "metadata": {},
   "outputs": [
    {
     "name": "stdout",
     "output_type": "stream",
     "text": [
      "0.5727671386753566\n"
     ]
    }
   ],
   "source": [
    "\n",
    "lgr.fit(X_train,y_train)\n",
    "y_pred=lgr.predict(X)"
   ]
  },
  {
   "cell_type": "code",
   "execution_count": 38,
   "metadata": {},
   "outputs": [
    {
     "data": {
      "text/plain": [
       "<matplotlib.collections.PathCollection at 0x1f4daa93748>"
      ]
     },
     "execution_count": 38,
     "metadata": {},
     "output_type": "execute_result"
    },
    {
     "data": {
      "image/png": "[encoded data removed]",
      "text/plain": [
       "<Figure size 432x288 with 1 Axes>"
      ]
     },
     "metadata": {
      "needs_background": "light"
     },
     "output_type": "display_data"
    }
   ],
   "source": [
    "cmap=plt.get_cmap('viridis')\n",
    "plt.plot(X,y_pred,color='black')\n",
    "plt.scatter(X_test,y_test,color=cmap(0.9),s=10)\n",
    "plt.scatter(X_train,y_train,color=cmap(0.5),s=10)\n"
   ]
  },
  {
   "cell_type": "code",
   "execution_count": null,
   "metadata": {},
   "outputs": [],
   "source": []
  },
  {
   "cell_type": "code",
   "execution_count": null,
   "metadata": {},
   "outputs": [],
   "source": []
  },
  {
   "cell_type": "code",
   "execution_count": null,
   "metadata": {},
   "outputs": [],
   "source": []
  }
 ],
 "metadata": {
  "kernelspec": {
   "display_name": "Python 3",
   "language": "python",
   "name": "python3"
  },
  "language_info": {
   "codemirror_mode": {
    "name": "ipython",
    "version": 3
   },
   "file_extension": ".py",
   "mimetype": "text/x-python",
   "name": "python",
   "nbconvert_exporter": "python",
   "pygments_lexer": "ipython3",
   "version": "3.7.6"
  }
 },
 "nbformat": 4,
 "nbformat_minor": 4
}

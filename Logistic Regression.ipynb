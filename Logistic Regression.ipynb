{
 "cells": [
  {
   "cell_type": "code",
   "execution_count": 1,
   "metadata": {},
   "outputs": [],
   "source": [
    "import numpy as np\n",
    "from sklearn import datasets\n",
    "from sklearn.model_selection import train_test_split\n",
    "import matplotlib.pylab as plt\n",
    "from matplotlib.colors import ListedColormap\n",
    "cmap= ListedColormap(['#FF0000','#00FF00','#0000FF'])\n",
    "from collections import Counter\n"
   ]
  },
  {
   "cell_type": "code",
   "execution_count": 2,
   "metadata": {},
   "outputs": [],
   "source": [
    "class LogisticRegression():\n",
    "    \n",
    "    def __init__(self,l=0.0001,n=10):\n",
    "        self.n=n\n",
    "        self.l=l\n",
    "        self.weight=None\n",
    "        self.bias=None\n",
    "    \n",
    "    def fit(self,X,y):\n",
    "        n_samples,n_features=X.shape\n",
    "        self.weight=np.zeros(n_features)\n",
    "        self.bias=0\n",
    "        cost=0\n",
    "        for _ in range(self.n):\n",
    "            y_hat= self.sigmoid(np.dot(X,self.weight)+self.bias)\n",
    "            cost=(1/(2*self.n))*np.sum(np.square(y-y_hat))\n",
    "            \n",
    "            dw =1/(self.n) *(np.dot(X.T,y_hat-y))\n",
    "            db= 1/(self.n)* np.sum(y_hat-y)\n",
    "            \n",
    "            self.weight-=self.l*dw\n",
    "            self.bias-=self.l*db\n",
    "            \n",
    "        print(\"Cost=\",cost)\n",
    "            \n",
    "    \n",
    "    def predict(self,X):\n",
    "        pred=np.dot(X,self.weight)+self.bias\n",
    "         \n",
    "        return [1 if value>0.5 else 0 for value in self.sigmoid(pred)]\n",
    "        \n",
    "    def sigmoid(self,y_hat):\n",
    "        \n",
    "        return 1/(1+np.exp(-(y_hat)))\n",
    "    \n",
    "                \n",
    "    "
   ]
  },
  {
   "cell_type": "code",
   "execution_count": null,
   "metadata": {},
   "outputs": [],
   "source": []
  },
  {
   "cell_type": "code",
   "execution_count": 3,
   "metadata": {},
   "outputs": [
    {
     "name": "stderr",
     "output_type": "stream",
     "text": [
      "C:\\ProgramData\\Anaconda3\\lib\\site-packages\\ipykernel_launcher.py:34: RuntimeWarning: overflow encountered in exp\n"
     ]
    },
    {
     "name": "stdout",
     "output_type": "stream",
     "text": [
      "Cost= 0.008739244311894358\n"
     ]
    }
   ],
   "source": [
    "bc=datasets.load_breast_cancer()\n",
    "X,y=bc.data,bc.target\n",
    "X_train,X_test,y_train,y_test=train_test_split(X,y,test_size=0.2,random_state=1234)\n",
    "\n",
    "logistic=LogisticRegression(0.001,2000)\n",
    "logistic.fit(X_train,y_train)"
   ]
  },
  {
   "cell_type": "code",
   "execution_count": 4,
   "metadata": {},
   "outputs": [
    {
     "name": "stdout",
     "output_type": "stream",
     "text": [
      "Accuracy : 0.9210526315789473\n"
     ]
    }
   ],
   "source": [
    "print(\"Accuracy :\", np.sum(y_test==logistic.predict(X_test))/len(y_test))"
   ]
  },
  {
   "cell_type": "code",
   "execution_count": null,
   "metadata": {},
   "outputs": [],
   "source": []
  },
  {
   "cell_type": "code",
   "execution_count": null,
   "metadata": {},
   "outputs": [],
   "source": []
  }
 ],
 "metadata": {
  "kernelspec": {
   "display_name": "Python 3",
   "language": "python",
   "name": "python3"
  },
  "language_info": {
   "codemirror_mode": {
    "name": "ipython",
    "version": 3
   },
   "file_extension": ".py",
   "mimetype": "text/x-python",
   "name": "python",
   "nbconvert_exporter": "python",
   "pygments_lexer": "ipython3",
   "version": "3.7.6"
  }
 },
 "nbformat": 4,
 "nbformat_minor": 4
}

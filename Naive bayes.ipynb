{
 "cells": [
  {
   "cell_type": "code",
   "execution_count": 16,
   "metadata": {},
   "outputs": [],
   "source": [
    "import numpy as np\n",
    "from sklearn.model_selection import train_test_split\n",
    "\n",
    "from sklearn import datasets\n",
    "import matplotlib.pylab as plt"
   ]
  },
  {
   "cell_type": "code",
   "execution_count": 17,
   "metadata": {},
   "outputs": [],
   "source": [
    "X,y=datasets.make_classification(n_samples=100,n_features=10,n_classes=2,random_state=123)"
   ]
  },
  {
   "cell_type": "code",
   "execution_count": 26,
   "metadata": {},
   "outputs": [],
   "source": [
    "class NaiveBayes():\n",
    "    \n",
    "    def fit(self,X,y):\n",
    "        \n",
    "        n_samples,n_features=X.shape\n",
    "        self._classes=np.unique(y)\n",
    "        self.classes=len(self._classes)\n",
    "        \n",
    "        self._mean=np.zeros((self.classes,n_features),dtype=np.float64)\n",
    "        self._var= np.zeros((self.classes,n_features),dtype=np.float64)\n",
    "        self._priors = np.zeros(self.classes,dtype=np.float64)\n",
    "        \n",
    "        for idx,c in enumerate(self._classes):\n",
    "            X_c=X[y==c]\n",
    "            self._mean[idx,:]=X_c.mean(axis=0)\n",
    "            self._var[idx,:]=X_c.var(axis=0)\n",
    "            self._priors[idx]=X_c.shape[0]/float(n_samples)\n",
    "            \n",
    "        \n",
    "    def predict(self,X):\n",
    "        pred= [self._predict(i) for i in X]\n",
    "        return np.array(pred)\n",
    "    \n",
    "    def _predict(self,x):\n",
    "        \n",
    "        posts=[]\n",
    "        for idx,c in enumerate(self._classes):\n",
    "            prior=np.log(self._priors[idx])\n",
    "            conditional=np.sum(np.log(self._pdf(idx,x)))\n",
    "            post=prior+conditional\n",
    "            posts.append(post)\n",
    "        return self._classes[np.argmax(posts)]\n",
    "            \n",
    "            \n",
    "    def _pdf(self, class_idx, x):\n",
    "        mean = self._mean[class_idx]\n",
    "        var = self._var[class_idx]\n",
    "        numerator = np.exp(- (x-mean)**2 / (2 * var))\n",
    "        denominator = np.sqrt(2 * np.pi * var)\n",
    "        return numerator / denominator\n",
    "    \n",
    "    def accuracy(self,y,y_pred):\n",
    "        \n",
    "        acc=(np.sum(y==y_pred)/len(y))*100\n",
    "        return str(acc)+\"%\"\n",
    "        \n",
    "        \n",
    "            \n",
    "            \n",
    "        \n",
    "        \n",
    "        \n",
    "        \n",
    "        \n",
    "        "
   ]
  },
  {
   "cell_type": "code",
   "execution_count": 27,
   "metadata": {},
   "outputs": [],
   "source": [
    "X_train,X_test,y_train,y_test=train_test_split(X,y,test_size=0.2,random_state=1234)\n",
    "\n",
    "naive=NaiveBayes()\n",
    "naive.fit(X_train,y_train)"
   ]
  },
  {
   "cell_type": "code",
   "execution_count": 28,
   "metadata": {},
   "outputs": [
    {
     "name": "stdout",
     "output_type": "stream",
     "text": [
      "90.0%\n"
     ]
    }
   ],
   "source": [
    "y_pred=naive.predict(X_test)\n",
    "print(naive.accuracy(y_test,y_pred))"
   ]
  },
  {
   "cell_type": "code",
   "execution_count": null,
   "metadata": {},
   "outputs": [],
   "source": []
  }
 ],
 "metadata": {
  "kernelspec": {
   "display_name": "Python 3",
   "language": "python",
   "name": "python3"
  },
  "language_info": {
   "codemirror_mode": {
    "name": "ipython",
    "version": 3
   },
   "file_extension": ".py",
   "mimetype": "text/x-python",
   "name": "python",
   "nbconvert_exporter": "python",
   "pygments_lexer": "ipython3",
   "version": "3.7.6"
  }
 },
 "nbformat": 4,
 "nbformat_minor": 4
}

{
 "cells": [
  {
   "cell_type": "code",
   "execution_count": 9,
   "metadata": {},
   "outputs": [
    {
     "name": "stdout",
     "output_type": "stream",
     "text": [
      "Dog Code\n",
      "HelloTom\n"
     ]
    }
   ],
   "source": [
    "class dog:\n",
    "    def __init__(self):\n",
    "        print(\"Dog Code\")\n",
    "    def mydog(self,dogName):\n",
    "        print(\"Hello\"+dogName)\n",
    "        \n",
    "obj = dog()\n",
    "obj.mydog(\"Tom\")\n",
    "def __init__(self):\n",
    "        print(\"Dog Code\")"
   ]
  },
  {
   "cell_type": "code",
   "execution_count": 10,
   "metadata": {},
   "outputs": [],
   "source": [
    "a=dict()\n",
    "a={\"he\":1,\"she\":0}"
   ]
  },
  {
   "cell_type": "code",
   "execution_count": 11,
   "metadata": {},
   "outputs": [
    {
     "data": {
      "text/plain": [
       "{'he': 1, 'she': 0}"
      ]
     },
     "execution_count": 11,
     "metadata": {},
     "output_type": "execute_result"
    }
   ],
   "source": [
    "a"
   ]
  },
  {
   "cell_type": "code",
   "execution_count": 24,
   "metadata": {},
   "outputs": [
    {
     "data": {
      "text/plain": [
       "[1, 1, 4, 6, 7, 1]"
      ]
     },
     "execution_count": 24,
     "metadata": {},
     "output_type": "execute_result"
    }
   ],
   "source": [
    "a=[1,1,4,6,7,1]\n",
    "b=sorted(a)\n",
    "# a.sort()\n",
    "a"
   ]
  },
  {
   "cell_type": "code",
   "execution_count": null,
   "metadata": {},
   "outputs": [],
   "source": [
    "sys.stdout.write(\"\\rStarting WebDriver                           \")\n",
    "sys.stdout.write(\"\\r Connecting to the website                   \")\n",
    "sys.stdout.write(\"\\rCould not connect:Connecting to website again\")\n",
    "sys.stdout.write(\"\\rLoging In and Entering Credentials           \")\n",
    "sys.stdout.write(\"\\rSuccessfully Logged in the Website           \")\n",
    "sys.stdout.write(\"\\rCouldn't log in Successfully Trying again    \")\n",
    "sys.stdout.write(\"\\rFetching Appointment Status                  \")\n",
    "sys.stdout.write(\"\\rWebdriver Started                            \")\n",
    "sys.stdout.write(\"No appointment slots are currently available   \")\n",
    "sys.stdout.write(\"Slots are available                            \")\n",
    "sys.stdout.write(\"Sending Message to Dhruv                       \")\n",
    "sys.stdout.write(\"Twiliio Message Sent Successfully              \")\n",
    "sys.stdout.write(\"G-Mail  Message Sent Successfully              \")\n"
   ]
  }
 ],
 "metadata": {
  "kernelspec": {
   "display_name": "Python 3",
   "language": "python",
   "name": "python3"
  },
  "language_info": {
   "codemirror_mode": {
    "name": "ipython",
    "version": 3
   },
   "file_extension": ".py",
   "mimetype": "text/x-python",
   "name": "python",
   "nbconvert_exporter": "python",
   "pygments_lexer": "ipython3",
   "version": "3.7.6"
  }
 },
 "nbformat": 4,
 "nbformat_minor": 4
}

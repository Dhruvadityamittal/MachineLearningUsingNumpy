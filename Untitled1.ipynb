{
 "cells": [
  {
   "cell_type": "code",
   "execution_count": 3,
   "metadata": {},
   "outputs": [
    {
     "name": "stdout",
     "output_type": "stream",
     "text": [
      "Please enter the City Name    :Frankfurt\n",
      "Please enter the Hours       :12\n",
      "Time             Sky             Temperature     Wind Speed      Precipition\n",
      "19:00:00 \t Few clouds \t 10 \t\t 1.04709 \t 1011.49\n",
      "20:00:00 \t Few clouds \t 8.9 \t\t 1.05667 \t 1012.45\n",
      "21:00:00 \t Scattered clouds \t 7.9 \t\t 1.06572 \t 1012.47\n",
      "22:00:00 \t Overcast clouds \t 7.3 \t\t 1.01663 \t 1013.26\n",
      "23:00:00 \t Scattered clouds \t 7 \t\t 1.08751 \t 1012.78\n",
      "00:00:00 \t Overcast clouds \t 6.9 \t\t 1.15992 \t 1013.31\n",
      "01:00:00 \t Overcast clouds \t 6.8 \t\t 1.24884 \t 1013.03\n",
      "02:00:00 \t Overcast clouds \t 7 \t\t 1.31832 \t 1013.17\n",
      "03:00:00 \t Scattered clouds \t 6.9 \t\t 1.29923 \t 1012.88\n",
      "04:00:00 \t Overcast clouds \t 7 \t\t 1.43001 \t 1012.69\n",
      "05:00:00 \t Overcast clouds \t 7.1 \t\t 2.17963 \t 1012.17\n",
      "06:00:00 \t Overcast clouds \t 7.2 \t\t 1.85663 \t 1012.28\n"
     ]
    }
   ],
   "source": [
    "import requests\n",
    "import time\n",
    "import sys\n",
    "\n",
    "\n",
    "while(1):\n",
    "    try:\n",
    "        city= input(\"Please enter the City Name    :\")\n",
    "        hours=input(\"Please enter the Hours       :\")\n",
    "        if(int(hours)<48):\n",
    "            \n",
    "            api_key = 'b5771197a2ff4d9cb8e5f4edf369d326'\n",
    "            api_url =\"https://api.weatherbit.io/v2.0/forecast/hourly?city=\"+city+\"&key=\"+api_key+\"&hours=\" + hours\n",
    "\n",
    "            response = requests.get(api_url)\n",
    "            jsonResponse = response.json()\n",
    "\n",
    "            print(\"Time             Sky             Temperature     Wind Speed      Precipition\")\n",
    "            for i in range(int(hours)):\n",
    "                print(jsonResponse['data'][i]['timestamp_local'].split('T')[1],\"\\t\",jsonResponse['data'][i]['weather']['description'],\"\\t\",\n",
    "                jsonResponse['data'][i]['temp'],\"\\t\\t\",jsonResponse['data'][i]['wind_spd'],\"\\t\",jsonResponse['data'][i]['pres'])\n",
    "            break\n",
    "        else:\n",
    "            print(\"Please Enter Less than 48 Hours\")\n",
    "            break\n",
    "    except:\n",
    "        print(\"\\n\\nError : Please enter right credentials\")\n",
    "        \n"
   ]
  },
  {
   "cell_type": "code",
   "execution_count": 5,
   "metadata": {},
   "outputs": [
    {
     "data": {
      "text/plain": [
       "{'wind_cdir': 'W',\n",
       " 'rh': 73,\n",
       " 'pod': 'n',\n",
       " 'timestamp_utc': '2021-10-13T17:00:00',\n",
       " 'pres': 1011.49,\n",
       " 'solar_rad': 0,\n",
       " 'ozone': 292.75,\n",
       " 'weather': {'icon': 'c02n', 'code': 801, 'description': 'Few clouds'},\n",
       " 'wind_gust_spd': 3.38067,\n",
       " 'timestamp_local': '2021-10-13T19:00:00',\n",
       " 'snow_depth': 0,\n",
       " 'clouds': 35,\n",
       " 'ts': 1634144400,\n",
       " 'wind_spd': 1.04709,\n",
       " 'pop': 0,\n",
       " 'wind_cdir_full': 'west',\n",
       " 'slp': 1025.73,\n",
       " 'dni': 0,\n",
       " 'dewpt': 5.8,\n",
       " 'snow': 0,\n",
       " 'uv': 0,\n",
       " 'wind_dir': 279,\n",
       " 'clouds_hi': 7,\n",
       " 'precip': 0,\n",
       " 'vis': 24.128,\n",
       " 'dhi': 0,\n",
       " 'app_temp': 10,\n",
       " 'datetime': '2021-10-13:17',\n",
       " 'temp': 10,\n",
       " 'ghi': 0,\n",
       " 'clouds_mid': 32,\n",
       " 'clouds_low': 0}"
      ]
     },
     "execution_count": 5,
     "metadata": {},
     "output_type": "execute_result"
    }
   ],
   "source": [
    "\n",
    "jsonResponse['data'][0]"
   ]
  },
  {
   "cell_type": "code",
   "execution_count": null,
   "metadata": {},
   "outputs": [],
   "source": []
  },
  {
   "cell_type": "code",
   "execution_count": null,
   "metadata": {},
   "outputs": [],
   "source": []
  }
 ],
 "metadata": {
  "kernelspec": {
   "display_name": "Python 3",
   "language": "python",
   "name": "python3"
  },
  "language_info": {
   "codemirror_mode": {
    "name": "ipython",
    "version": 3
   },
   "file_extension": ".py",
   "mimetype": "text/x-python",
   "name": "python",
   "nbconvert_exporter": "python",
   "pygments_lexer": "ipython3",
   "version": "3.7.6"
  }
 },
 "nbformat": 4,
 "nbformat_minor": 4
}
